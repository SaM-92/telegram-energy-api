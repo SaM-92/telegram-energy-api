{
 "cells": [
  {
   "cell_type": "code",
   "execution_count": 1,
   "metadata": {},
   "outputs": [],
   "source": [
    "import pandas as pd \n",
    "from subs.energy_api import *\n",
    "\n",
    "\n",
    "df_carbon_forecast_indexed =carbon_api_forecast()\n"
   ]
  },
  {
   "cell_type": "code",
   "execution_count": 2,
   "metadata": {},
   "outputs": [
    {
     "data": {
      "text/html": [
       "<div>\n",
       "<style scoped>\n",
       "    .dataframe tbody tr th:only-of-type {\n",
       "        vertical-align: middle;\n",
       "    }\n",
       "\n",
       "    .dataframe tbody tr th {\n",
       "        vertical-align: top;\n",
       "    }\n",
       "\n",
       "    .dataframe thead th {\n",
       "        text-align: right;\n",
       "    }\n",
       "</style>\n",
       "<table border=\"1\" class=\"dataframe\">\n",
       "  <thead>\n",
       "    <tr style=\"text-align: right;\">\n",
       "      <th></th>\n",
       "      <th>FieldName</th>\n",
       "      <th>Region</th>\n",
       "      <th>Value</th>\n",
       "    </tr>\n",
       "    <tr>\n",
       "      <th>EffectiveTime</th>\n",
       "      <th></th>\n",
       "      <th></th>\n",
       "      <th></th>\n",
       "    </tr>\n",
       "  </thead>\n",
       "  <tbody>\n",
       "    <tr>\n",
       "      <th>2024-02-10 17:30:00</th>\n",
       "      <td>CO2_INTENSITY_FORECAST</td>\n",
       "      <td>ALL</td>\n",
       "      <td>265.9484</td>\n",
       "    </tr>\n",
       "    <tr>\n",
       "      <th>2024-02-10 18:00:00</th>\n",
       "      <td>CO2_INTENSITY_FORECAST</td>\n",
       "      <td>ALL</td>\n",
       "      <td>262.6884</td>\n",
       "    </tr>\n",
       "    <tr>\n",
       "      <th>2024-02-10 18:30:00</th>\n",
       "      <td>CO2_INTENSITY_FORECAST</td>\n",
       "      <td>ALL</td>\n",
       "      <td>249.6902</td>\n",
       "    </tr>\n",
       "    <tr>\n",
       "      <th>2024-02-10 19:00:00</th>\n",
       "      <td>CO2_INTENSITY_FORECAST</td>\n",
       "      <td>ALL</td>\n",
       "      <td>242.0181</td>\n",
       "    </tr>\n",
       "    <tr>\n",
       "      <th>2024-02-10 19:30:00</th>\n",
       "      <td>CO2_INTENSITY_FORECAST</td>\n",
       "      <td>ALL</td>\n",
       "      <td>240.8457</td>\n",
       "    </tr>\n",
       "    <tr>\n",
       "      <th>2024-02-10 20:00:00</th>\n",
       "      <td>CO2_INTENSITY_FORECAST</td>\n",
       "      <td>ALL</td>\n",
       "      <td>239.0218</td>\n",
       "    </tr>\n",
       "    <tr>\n",
       "      <th>2024-02-10 20:30:00</th>\n",
       "      <td>CO2_INTENSITY_FORECAST</td>\n",
       "      <td>ALL</td>\n",
       "      <td>231.0885</td>\n",
       "    </tr>\n",
       "    <tr>\n",
       "      <th>2024-02-10 21:00:00</th>\n",
       "      <td>CO2_INTENSITY_FORECAST</td>\n",
       "      <td>ALL</td>\n",
       "      <td>230.4130</td>\n",
       "    </tr>\n",
       "    <tr>\n",
       "      <th>2024-02-10 21:30:00</th>\n",
       "      <td>CO2_INTENSITY_FORECAST</td>\n",
       "      <td>ALL</td>\n",
       "      <td>223.8624</td>\n",
       "    </tr>\n",
       "    <tr>\n",
       "      <th>2024-02-10 22:00:00</th>\n",
       "      <td>CO2_INTENSITY_FORECAST</td>\n",
       "      <td>ALL</td>\n",
       "      <td>217.5133</td>\n",
       "    </tr>\n",
       "    <tr>\n",
       "      <th>2024-02-10 22:30:00</th>\n",
       "      <td>CO2_INTENSITY_FORECAST</td>\n",
       "      <td>ALL</td>\n",
       "      <td>219.8638</td>\n",
       "    </tr>\n",
       "    <tr>\n",
       "      <th>2024-02-10 23:00:00</th>\n",
       "      <td>CO2_INTENSITY_FORECAST</td>\n",
       "      <td>ALL</td>\n",
       "      <td>207.9371</td>\n",
       "    </tr>\n",
       "    <tr>\n",
       "      <th>2024-02-10 23:30:00</th>\n",
       "      <td>CO2_INTENSITY_FORECAST</td>\n",
       "      <td>ALL</td>\n",
       "      <td>221.5381</td>\n",
       "    </tr>\n",
       "  </tbody>\n",
       "</table>\n",
       "</div>"
      ],
      "text/plain": [
       "                                  FieldName Region     Value\n",
       "EffectiveTime                                               \n",
       "2024-02-10 17:30:00  CO2_INTENSITY_FORECAST    ALL  265.9484\n",
       "2024-02-10 18:00:00  CO2_INTENSITY_FORECAST    ALL  262.6884\n",
       "2024-02-10 18:30:00  CO2_INTENSITY_FORECAST    ALL  249.6902\n",
       "2024-02-10 19:00:00  CO2_INTENSITY_FORECAST    ALL  242.0181\n",
       "2024-02-10 19:30:00  CO2_INTENSITY_FORECAST    ALL  240.8457\n",
       "2024-02-10 20:00:00  CO2_INTENSITY_FORECAST    ALL  239.0218\n",
       "2024-02-10 20:30:00  CO2_INTENSITY_FORECAST    ALL  231.0885\n",
       "2024-02-10 21:00:00  CO2_INTENSITY_FORECAST    ALL  230.4130\n",
       "2024-02-10 21:30:00  CO2_INTENSITY_FORECAST    ALL  223.8624\n",
       "2024-02-10 22:00:00  CO2_INTENSITY_FORECAST    ALL  217.5133\n",
       "2024-02-10 22:30:00  CO2_INTENSITY_FORECAST    ALL  219.8638\n",
       "2024-02-10 23:00:00  CO2_INTENSITY_FORECAST    ALL  207.9371\n",
       "2024-02-10 23:30:00  CO2_INTENSITY_FORECAST    ALL  221.5381"
      ]
     },
     "execution_count": 2,
     "metadata": {},
     "output_type": "execute_result"
    }
   ],
   "source": [
    "df_carbon_forecast_indexed"
   ]
  },
  {
   "cell_type": "code",
   "execution_count": 3,
   "metadata": {},
   "outputs": [
    {
     "name": "stderr",
     "output_type": "stream",
     "text": [
      "/Users/saeed/Documents/GitHub/telegram-energy-api/subs/energy_api.py:109: SettingWithCopyWarning: \n",
      "A value is trying to be set on a copy of a slice from a DataFrame.\n",
      "Try using .loc[row_indexer,col_indexer] = value instead\n",
      "\n",
      "See the caveats in the documentation: https://pandas.pydata.org/pandas-docs/stable/user_guide/indexing.html#returning-a-view-versus-a-copy\n",
      "  df_carbon_intensity_recent[\"Value\"] = df_carbon_intensity_recent[\n"
     ]
    }
   ],
   "source": [
    "co2_stats_prior_day, df_carbon_intensity_recent = carbon_api_intensity()"
   ]
  },
  {
   "cell_type": "code",
   "execution_count": 4,
   "metadata": {},
   "outputs": [
    {
     "data": {
      "text/html": [
       "<div>\n",
       "<style scoped>\n",
       "    .dataframe tbody tr th:only-of-type {\n",
       "        vertical-align: middle;\n",
       "    }\n",
       "\n",
       "    .dataframe tbody tr th {\n",
       "        vertical-align: top;\n",
       "    }\n",
       "\n",
       "    .dataframe thead th {\n",
       "        text-align: right;\n",
       "    }\n",
       "</style>\n",
       "<table border=\"1\" class=\"dataframe\">\n",
       "  <thead>\n",
       "    <tr style=\"text-align: right;\">\n",
       "      <th></th>\n",
       "      <th>FieldName</th>\n",
       "      <th>Region</th>\n",
       "      <th>Value</th>\n",
       "    </tr>\n",
       "    <tr>\n",
       "      <th>EffectiveTime</th>\n",
       "      <th></th>\n",
       "      <th></th>\n",
       "      <th></th>\n",
       "    </tr>\n",
       "  </thead>\n",
       "  <tbody>\n",
       "    <tr>\n",
       "      <th>2024-02-09 17:30:00</th>\n",
       "      <td>CO2_INTENSITY</td>\n",
       "      <td>ALL</td>\n",
       "      <td>241.0</td>\n",
       "    </tr>\n",
       "    <tr>\n",
       "      <th>2024-02-09 17:45:00</th>\n",
       "      <td>CO2_INTENSITY</td>\n",
       "      <td>ALL</td>\n",
       "      <td>244.0</td>\n",
       "    </tr>\n",
       "    <tr>\n",
       "      <th>2024-02-09 18:00:00</th>\n",
       "      <td>CO2_INTENSITY</td>\n",
       "      <td>ALL</td>\n",
       "      <td>243.0</td>\n",
       "    </tr>\n",
       "    <tr>\n",
       "      <th>2024-02-09 18:15:00</th>\n",
       "      <td>CO2_INTENSITY</td>\n",
       "      <td>ALL</td>\n",
       "      <td>238.0</td>\n",
       "    </tr>\n",
       "    <tr>\n",
       "      <th>2024-02-09 18:30:00</th>\n",
       "      <td>CO2_INTENSITY</td>\n",
       "      <td>ALL</td>\n",
       "      <td>237.0</td>\n",
       "    </tr>\n",
       "    <tr>\n",
       "      <th>...</th>\n",
       "      <td>...</td>\n",
       "      <td>...</td>\n",
       "      <td>...</td>\n",
       "    </tr>\n",
       "    <tr>\n",
       "      <th>2024-02-10 16:15:00</th>\n",
       "      <td>CO2_INTENSITY</td>\n",
       "      <td>ALL</td>\n",
       "      <td>254.0</td>\n",
       "    </tr>\n",
       "    <tr>\n",
       "      <th>2024-02-10 16:30:00</th>\n",
       "      <td>CO2_INTENSITY</td>\n",
       "      <td>ALL</td>\n",
       "      <td>253.0</td>\n",
       "    </tr>\n",
       "    <tr>\n",
       "      <th>2024-02-10 16:45:00</th>\n",
       "      <td>CO2_INTENSITY</td>\n",
       "      <td>ALL</td>\n",
       "      <td>250.0</td>\n",
       "    </tr>\n",
       "    <tr>\n",
       "      <th>2024-02-10 17:00:00</th>\n",
       "      <td>CO2_INTENSITY</td>\n",
       "      <td>ALL</td>\n",
       "      <td>249.0</td>\n",
       "    </tr>\n",
       "    <tr>\n",
       "      <th>2024-02-10 17:15:00</th>\n",
       "      <td>CO2_INTENSITY</td>\n",
       "      <td>ALL</td>\n",
       "      <td>252.0</td>\n",
       "    </tr>\n",
       "  </tbody>\n",
       "</table>\n",
       "<p>96 rows × 3 columns</p>\n",
       "</div>"
      ],
      "text/plain": [
       "                         FieldName Region  Value\n",
       "EffectiveTime                                   \n",
       "2024-02-09 17:30:00  CO2_INTENSITY    ALL  241.0\n",
       "2024-02-09 17:45:00  CO2_INTENSITY    ALL  244.0\n",
       "2024-02-09 18:00:00  CO2_INTENSITY    ALL  243.0\n",
       "2024-02-09 18:15:00  CO2_INTENSITY    ALL  238.0\n",
       "2024-02-09 18:30:00  CO2_INTENSITY    ALL  237.0\n",
       "...                            ...    ...    ...\n",
       "2024-02-10 16:15:00  CO2_INTENSITY    ALL  254.0\n",
       "2024-02-10 16:30:00  CO2_INTENSITY    ALL  253.0\n",
       "2024-02-10 16:45:00  CO2_INTENSITY    ALL  250.0\n",
       "2024-02-10 17:00:00  CO2_INTENSITY    ALL  249.0\n",
       "2024-02-10 17:15:00  CO2_INTENSITY    ALL  252.0\n",
       "\n",
       "[96 rows x 3 columns]"
      ]
     },
     "execution_count": 4,
     "metadata": {},
     "output_type": "execute_result"
    }
   ],
   "source": [
    "df_carbon_intensity_recent"
   ]
  },
  {
   "cell_type": "code",
   "execution_count": 5,
   "metadata": {},
   "outputs": [
    {
     "data": {
      "text/plain": [
       "{'mean': 237.71875, 'min': 190.0, 'max': 277.0}"
      ]
     },
     "execution_count": 5,
     "metadata": {},
     "output_type": "execute_result"
    }
   ],
   "source": [
    "co2_stats_prior_day"
   ]
  },
  {
   "cell_type": "code",
   "execution_count": 6,
   "metadata": {},
   "outputs": [],
   "source": [
    "df_ = status_classification(df_carbon_forecast_indexed,co2_stats_prior_day)"
   ]
  },
  {
   "cell_type": "code",
   "execution_count": 7,
   "metadata": {},
   "outputs": [
    {
     "data": {
      "text/plain": [
       "'2024-02-10 17:30:00'"
      ]
     },
     "execution_count": 7,
     "metadata": {},
     "output_type": "execute_result"
    }
   ],
   "source": [
    "str(df_.index[0])"
   ]
  },
  {
   "cell_type": "code",
   "execution_count": 8,
   "metadata": {},
   "outputs": [
    {
     "data": {
      "image/png": "[encoded data removed]",
      "text/plain": [
       "<Figure size 800x600 with 2 Axes>"
      ]
     },
     "metadata": {},
     "output_type": "display_data"
    }
   ],
   "source": [
    "co2_int_plot(df_)"
   ]
  },
  {
   "cell_type": "code",
   "execution_count": 22,
   "metadata": {},
   "outputs": [
    {
     "data": {
      "text/plain": [
       "array([198.4955, 203.3778, 216.6131, 218.7606, 219.6809, 219.1306])"
      ]
     },
     "execution_count": 22,
     "metadata": {},
     "output_type": "execute_result"
    }
   ],
   "source": [
    "df_.Value.values"
   ]
  },
  {
   "cell_type": "code",
   "execution_count": 25,
   "metadata": {},
   "outputs": [
    {
     "name": "stdout",
     "output_type": "stream",
     "text": [
      "[{'role': 'system', 'content': 'The following data is about the forecasted CO2 emissions starting from 2024-02-08 22:00:00 until the end of today with a step of 30 minutes. Each value represents the CO2 intensity in grams per kWh. Your task is to explain this information simply to the user, like a weather commentator. \\n\\nCO2 values are: 198.4955, 203.3778, 216.6131, 218.7606, 219.6809, 219.1306'}, {'role': 'user', 'content': 'When is the best and worst time to use energy today?'}]\n"
     ]
    }
   ],
   "source": [
    "def create_message(forecast_start_date, co2_values):\n",
    "    class Message:\n",
    "        def __init__(self, system, user):\n",
    "            self.system = system\n",
    "            self.user = user\n",
    "\n",
    "    co2_values_str = ', '.join(str(value) for value in co2_values)\n",
    "    system_template = (\n",
    "        f\"The following data is about the forecasted CO2 emissions starting from {forecast_start_date} \"\n",
    "        f\"until the end of today with a step of 30 minutes. Each value represents the CO2 intensity in grams per kWh. \"\n",
    "        f\"Your task is to explain this information simply to the user, like a weather commentator. \"\n",
    "        f\"\\n\\nCO2 values are: {co2_values_str}\"\n",
    "    )\n",
    "\n",
    "    user_template = \"When is the best and worst time to use energy today?\"\n",
    "\n",
    "    system = system_template\n",
    "    user = user_template\n",
    "\n",
    "    m = Message(system=system, user=user)\n",
    "    return m\n",
    "\n",
    "# Example usage\n",
    "msg = create_message(\n",
    "    forecast_start_date=str(df_.index[0]), co2_values=[10, 12, 13, 14, 15, 16]\n",
    ")\n",
    "\n",
    "m = create_message(\n",
    "    forecast_start_date=\"2024-02-08 22:00:00\", co2_values=df_.Value.values\n",
    ")\n",
    "\n",
    "messages = [\n",
    "    {\"role\": \"system\", \"content\": msg.system},\n",
    "    {\"role\": \"user\", \"content\": msg.user},\n",
    "]\n",
    "\n",
    "\n",
    "messages = [\n",
    "    {\"role\": \"system\", \"content\": m.system},\n",
    "    {\"role\": \"user\", \"content\": m.user},\n",
    "]\n",
    "\n",
    "print(messages)\n"
   ]
  },
  {
   "cell_type": "code",
   "execution_count": null,
   "metadata": {},
   "outputs": [],
   "source": [
    "# Generating a more descriptive text for CO2 values\n",
    "co2_values_str = \", \".join(str(value) for value in co2_values)\n",
    "early_day_advice = \"early in the day or in the middle of the day\"\n",
    "late_evening_advice = \"the late evening\"\n",
    "\n",
    "system_template = (\n",
    "    \"Based on the forecasted CO2 emissions data, we aim to provide simple and actionable energy usage advice. \"\n",
    "    \"The CO2 emissions vary throughout the day, generally lower in the morning and increasing towards the evening. \"\n",
    "    \"Given this pattern, when would be the optimal times for energy consumption to minimize environmental impact?\"\n",
    ")\n"
   ]
  },
  {
   "cell_type": "code",
   "execution_count": 25,
   "metadata": {},
   "outputs": [],
   "source": [
    "import openai\n",
    "import os\n",
    "import datetime\n",
    "from datetime import timedelta\n",
    "\n",
    "\n",
    "def create_message(forecast_start_date, co2_values,user_name):\n",
    "    class Message:\n",
    "        def __init__(self, system, user):\n",
    "            self.system = system\n",
    "            self.user = user\n",
    "\n",
    "    start_datetime = datetime.datetime.strptime(forecast_start_date, \"%Y-%m-%d %H:%M:%S\")\n",
    "    \n",
    "    # Generate hours list based on the start_datetime and the length of co2_values\n",
    "    hours = [(start_datetime + timedelta(minutes=30 * i)).strftime('%H:%M') for i in range(len(co2_values))]\n",
    "    \n",
    "    time_with_co2 = \", \".join(\n",
    "        f\"{hour} (CO2: {value} g/kWh)\" for hour, value in zip(hours, co2_values)\n",
    "    )\n",
    "\n",
    "    system_template = (\n",
    "        f\"Forecasted CO2 emissions data from {forecast_start_date}, updating every 30 minutes, is provided below. \"\n",
    "        f\"Based on this, you are to give energy usage advice. Identify the most environmentally friendly hours \"\n",
    "        f\"for energy consumption to minimize environmental impact. Use the format: Most environmental friendly hours hh:mm, \"\n",
    "        f\"medium: hh:mm, and hours to avoid hh:mm. Consider high CO2 > 500, low CO2 < 250, and medium for values in between. \"\n",
    "        f\"\\n\\nCO2 values and corresponding times are: {time_with_co2}\"\n",
    "        f\"\\n\\nProvide advice on the optimal time periods for energy consumption, do not need to give CO2 values to users.\"\n",
    "        f\"\\n\\n start with greeting user {user_name}, based on time {forecast_start_date} \"\n",
    "    )\n",
    "\n",
    "    user_template = \"When are the best and worst time periods, on average, to use energy today from the environmental impact perspective in format of hour:minute?\"\n",
    "\n",
    "    system = system_template\n",
    "    user = user_template\n",
    "\n",
    "    m = Message(system=system, user=user)\n",
    "    return m\n",
    "\n",
    "\n",
    "def opt_gpt_summarise():\n",
    "    # Ensure your API key is correctly set in your environment variables\n",
    "    openai.api_key = os.getenv(\"OPENAI_API_KEY\")\n",
    "\n",
    "    # Construct the messages\n",
    "    msg = create_message(\n",
    "        forecast_start_date=str(df_.index[0]), co2_values=df_.Value.values,user_name = 'Saeed'\n",
    "    )\n",
    "\n",
    "    messages = [\n",
    "        {\"role\": \"system\", \"content\": msg.system}\n",
    "        # {\"role\": \"user\", \"content\": msg.user},\n",
    "    ]\n",
    "\n",
    "    try:\n",
    "        # Making the API call\n",
    "        response = openai.chat.completions.create(\n",
    "            model=\"gpt-3.5-turbo\",  # or \"gpt-3.5-turbo\" based on your subscription\n",
    "            messages=messages,\n",
    "            max_tokens=600,  # Adjust the number of tokens as needed\n",
    "            n=1,  # Number of completions to generate\n",
    "            stop=None,  # Specify any stopping criteria if needed\n",
    "        )\n",
    "\n",
    "        # Extracting the response\n",
    "        # generated_text = response.choices[0].message['content'].strip()\n",
    "        generated_text = response.choices[0].message.content.strip()\n",
    "\n",
    "        return generated_text\n",
    "    except Exception as e:\n",
    "        return str(e)\n"
   ]
  },
  {
   "cell_type": "code",
   "execution_count": 27,
   "metadata": {},
   "outputs": [
    {
     "data": {
      "text/plain": [
       "'Hello Saeed! Based on the CO2 emissions forecast for today, I can provide you with advice on the optimal time periods for energy consumption.\\n\\nThe most environmentally friendly hours for energy consumption, with lower CO2 emissions, are as follows: \\n- Medium: 17:30, 18:30, 19:30, 20:30, 21:30, 22:00, 23:30\\n- Low: 19:00, 20:00, 21:00, 23:00\\n \\nOn the other hand, the hours to avoid for energy consumption, with higher CO2 emissions, are: \\n- High: 18:00, 22:30\\n\\nIt is recommended to schedule your energy-consuming activities during the medium and low CO2 emission periods to minimize the environmental impact.'"
      ]
     },
     "execution_count": 27,
     "metadata": {},
     "output_type": "execute_result"
    }
   ],
   "source": [
    "opt_gpt_summarise()"
   ]
  },
  {
   "cell_type": "code",
   "execution_count": 21,
   "metadata": {},
   "outputs": [],
   "source": [
    "co2_values = [10, 12, 13, 14, 15]\n",
    "hours = [f\"{(22 + i // 2) % 24}:{'00' if i % 2 == 0 else '30'}\" for i in range(len(co2_values))]\n",
    "time_with_co2 = \", \".join(f\"{hour} (CO2: {value} g/kWh)\" for hour, value in zip(hours, co2_values))"
   ]
  },
  {
   "cell_type": "code",
   "execution_count": 23,
   "metadata": {},
   "outputs": [
    {
     "data": {
      "text/plain": [
       "['22:00', '22:30', '23:00', '23:30', '0:00', '0:30']"
      ]
     },
     "execution_count": 23,
     "metadata": {},
     "output_type": "execute_result"
    }
   ],
   "source": [
    "hours"
   ]
  },
  {
   "cell_type": "code",
   "execution_count": 13,
   "metadata": {},
   "outputs": [
    {
     "data": {
      "text/plain": [
       "'2024-02-10 17:30:00'"
      ]
     },
     "execution_count": 13,
     "metadata": {},
     "output_type": "execute_result"
    }
   ],
   "source": [
    "str(df_.index[0])"
   ]
  },
  {
   "cell_type": "code",
   "execution_count": 18,
   "metadata": {},
   "outputs": [],
   "source": [
    "import datetime\n",
    "from datetime import timedelta\n",
    "\n",
    "start_datetime = datetime.datetime.strptime(str(df_.index[0]), \"%Y-%m-%d %H:%M:%S\")\n",
    "\n",
    "# Generate hours list based on the start_datetime and the length of co2_values\n",
    "hours = [(start_datetime + timedelta(minutes=30 * i)).strftime('%H:%M') for i in range(len(df_.Value.values))]"
   ]
  },
  {
   "cell_type": "code",
   "execution_count": 19,
   "metadata": {},
   "outputs": [
    {
     "data": {
      "text/plain": [
       "['17:30',\n",
       " '18:00',\n",
       " '18:30',\n",
       " '19:00',\n",
       " '19:30',\n",
       " '20:00',\n",
       " '20:30',\n",
       " '21:00',\n",
       " '21:30',\n",
       " '22:00',\n",
       " '22:30',\n",
       " '23:00',\n",
       " '23:30']"
      ]
     },
     "execution_count": 19,
     "metadata": {},
     "output_type": "execute_result"
    }
   ],
   "source": [
    "hours"
   ]
  },
  {
   "cell_type": "code",
   "execution_count": 21,
   "metadata": {},
   "outputs": [],
   "source": [
    "time_with_co2 = \", \".join(\n",
    "    f\"{hour} (CO2: {value} g/kWh)\" for hour, value in zip(hours, df_.Value.values)\n",
    ")"
   ]
  },
  {
   "cell_type": "code",
   "execution_count": 22,
   "metadata": {},
   "outputs": [
    {
     "data": {
      "text/plain": [
       "'17:30 (CO2: 265.9484 g/kWh), 18:00 (CO2: 262.6884 g/kWh), 18:30 (CO2: 249.6902 g/kWh), 19:00 (CO2: 242.0181 g/kWh), 19:30 (CO2: 240.8457 g/kWh), 20:00 (CO2: 239.0218 g/kWh), 20:30 (CO2: 231.0885 g/kWh), 21:00 (CO2: 230.413 g/kWh), 21:30 (CO2: 223.8624 g/kWh), 22:00 (CO2: 217.5133 g/kWh), 22:30 (CO2: 219.8638 g/kWh), 23:00 (CO2: 207.9371 g/kWh), 23:30 (CO2: 221.5381 g/kWh)'"
      ]
     },
     "execution_count": 22,
     "metadata": {},
     "output_type": "execute_result"
    }
   ],
   "source": [
    "time_with_co2"
   ]
  },
  {
   "cell_type": "code",
   "execution_count": null,
   "metadata": {},
   "outputs": [],
   "source": []
  }
 ],
 "metadata": {
  "kernelspec": {
   "display_name": "base",
   "language": "python",
   "name": "python3"
  },
  "language_info": {
   "codemirror_mode": {
    "name": "ipython",
    "version": 3
   },
   "file_extension": ".py",
   "mimetype": "text/x-python",
   "name": "python",
   "nbconvert_exporter": "python",
   "pygments_lexer": "ipython3",
   "version": "3.10.9"
  }
 },
 "nbformat": 4,
 "nbformat_minor": 2
}
