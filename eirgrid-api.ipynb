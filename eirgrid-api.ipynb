{
 "cells": [
  {
   "cell_type": "markdown",
   "metadata": {},
   "source": [
    "**EirGrid-Scraping**"
   ]
  },
  {
   "cell_type": "markdown",
   "metadata": {},
   "source": [
    "### Co2 Forecast "
   ]
  },
  {
   "cell_type": "markdown",
   "metadata": {},
   "source": [
    "This Python script is designed to fetch CO2 data from a specific API. It includes the following key components:\n",
    "\n",
    "1. **Round Down Time Function (`round_down_time`)**\n",
    "   - Rounds down the current time to the nearest half-hour, accommodating the data's 30-minute availability intervals.\n",
    "\n",
    "2. **URL Creation Function (`create_url`)**\n",
    "   - Constructs the API URL using formatted start and end times and a chosen region.\n",
    "\n",
    "3. **Time and Region Settings**\n",
    "   - Sets the current time (`now`), applies the round-down function, and calculates the end time as 24 hours from the current time.\n",
    "   - Selects a region (example: 'ROI') for data fetching.\n",
    "\n",
    "4. **API Request**\n",
    "   - Generates the API URL and performs a GET request to retrieve the data.\n",
    "   - Stores the response in JSON format.\n",
    "\n",
    "This script is tailored for accessing time-sensitive environmental data from a designated API endpoint.\n"
   ]
  },
  {
   "cell_type": "code",
   "execution_count": 66,
   "metadata": {},
   "outputs": [],
   "source": [
    "from datetime import datetime, timedelta\n",
    "import requests\n",
    "from pandas import DataFrame\n",
    "\n",
    "# data is availble every 30 minutes, so we need to start at the nearest half-hour \n",
    "def round_down_time(dt):\n",
    "    # Round down to the nearest half-ho/ur\n",
    "    new_minute = 30 if dt.minute >= 30 else 0\n",
    "    return dt.replace(minute=new_minute, second=0, microsecond=0)\n",
    "\n",
    "# Function to create the API URL based on the start and end datetimes and the region\n",
    "def create_url(start_datetime, end_datetime, region):\n",
    "    start_str = start_datetime.strftime(\"%Y%m%d%H%M\")\n",
    "    end_str = end_datetime.strftime(\"%Y%m%d%H%M\")\n",
    "    url = f\"https://www.co2.smartgriddashboard.com/api/co2_fc/{start_str}/{end_str}/{region}\"\n",
    "    return url\n",
    "\n",
    "# Current date and time\n",
    "now = datetime.now()\n",
    "# Round down to the nearest half-hour\n",
    "start_time = round_down_time(now)\n",
    "# For end time, let's use 24 hours from now\n",
    "end_time = now.replace(hour=23, minute=59, second=59, microsecond=0) #now + timedelta(days=1)\n",
    "\n",
    "# Define the region\n",
    "region = ['ROI', 'NI', 'ALL']\n",
    "\n",
    "# Create the URL\n",
    "api_url = create_url(start_time, end_time, region[2])\n",
    "response = requests.get(api_url)\n",
    "Rs = response.json()\n"
   ]
  },
  {
   "cell_type": "code",
   "execution_count": 67,
   "metadata": {},
   "outputs": [],
   "source": [
    "import pandas as pd\n",
    "df_carbon_forecast = pd.DataFrame(Rs['Rows'])\n",
    "\n",
    "# Convert 'EffectiveTime' to datetime and set as index\n",
    "df_carbon_forecast['EffectiveTime'] = pd.to_datetime(df_carbon_forecast['EffectiveTime'], format='%d-%b-%Y %H:%M:%S')\n",
    "df_carbon_forecast_indexed = df_carbon_forecast.set_index('EffectiveTime')\n",
    "\n",
    "# Now you can slice the DataFrame using datetime index\n",
    "# # For example, to access data at '26-JAN-2024 21:30:00'\n",
    "# specific_time_data = df_carbon_forecast_indexed.loc['2024-01-26 21:30:00']\n",
    "\n",
    "# # To access a range of times\n",
    "# time_range_data = df_carbon_forecast_indexed['2024-01-26 21:00:00':'2024-01-26 22:00:00']\n",
    "\n",
    "# # Print to see the results\n",
    "# print(specific_time_data)\n",
    "# print(time_range_data)"
   ]
  },
  {
   "cell_type": "code",
   "execution_count": 68,
   "metadata": {},
   "outputs": [
    {
     "data": {
      "text/html": [
       "<div>\n",
       "<style scoped>\n",
       "    .dataframe tbody tr th:only-of-type {\n",
       "        vertical-align: middle;\n",
       "    }\n",
       "\n",
       "    .dataframe tbody tr th {\n",
       "        vertical-align: top;\n",
       "    }\n",
       "\n",
       "    .dataframe thead th {\n",
       "        text-align: right;\n",
       "    }\n",
       "</style>\n",
       "<table border=\"1\" class=\"dataframe\">\n",
       "  <thead>\n",
       "    <tr style=\"text-align: right;\">\n",
       "      <th></th>\n",
       "      <th>FieldName</th>\n",
       "      <th>Region</th>\n",
       "      <th>Value</th>\n",
       "    </tr>\n",
       "    <tr>\n",
       "      <th>EffectiveTime</th>\n",
       "      <th></th>\n",
       "      <th></th>\n",
       "      <th></th>\n",
       "    </tr>\n",
       "  </thead>\n",
       "  <tbody>\n",
       "    <tr>\n",
       "      <th>2024-01-26 23:00:00</th>\n",
       "      <td>CO2_INTENSITY_FORECAST</td>\n",
       "      <td>ALL</td>\n",
       "      <td>147.9230</td>\n",
       "    </tr>\n",
       "    <tr>\n",
       "      <th>2024-01-26 23:30:00</th>\n",
       "      <td>CO2_INTENSITY_FORECAST</td>\n",
       "      <td>ALL</td>\n",
       "      <td>148.8191</td>\n",
       "    </tr>\n",
       "  </tbody>\n",
       "</table>\n",
       "</div>"
      ],
      "text/plain": [
       "                                  FieldName Region     Value\n",
       "EffectiveTime                                               \n",
       "2024-01-26 23:00:00  CO2_INTENSITY_FORECAST    ALL  147.9230\n",
       "2024-01-26 23:30:00  CO2_INTENSITY_FORECAST    ALL  148.8191"
      ]
     },
     "execution_count": 68,
     "metadata": {},
     "output_type": "execute_result"
    }
   ],
   "source": [
    "df_carbon_forecast_indexed"
   ]
  },
  {
   "cell_type": "markdown",
   "metadata": {},
   "source": [
    "### Co2 intensity (measured) from day before"
   ]
  },
  {
   "cell_type": "code",
   "execution_count": 27,
   "metadata": {},
   "outputs": [
    {
     "name": "stdout",
     "output_type": "stream",
     "text": [
      "Start Time: 25-jan-2024+22%3A30\n",
      "End Time: 26-jan-2024+22%3A30\n"
     ]
    }
   ],
   "source": [
    "import datetime\n",
    "\n",
    "# Function to round time to the nearest 15 minutes\n",
    "def round_time(dt):\n",
    "    # Round minutes to the nearest 15\n",
    "    new_minute = (dt.minute // 15) * 15\n",
    "    return dt.replace(minute=new_minute, second=0, microsecond=0)\n",
    "\n",
    "# Function to format date in your specific format\n",
    "def format_date(dt):\n",
    "    return dt.strftime(\"%d-%b-%Y\").lower() + \"+\" + dt.strftime(\"%H%%3A%M\")\n",
    "\n",
    "# Current date and time, rounded to the nearest 15 minutes\n",
    "now = round_time(datetime.datetime.now())\n",
    "\n",
    "# Start time (same time yesterday, rounded to the nearest 15 minutes)\n",
    "yesterday = now - datetime.timedelta(days=1)\n",
    "startDateTime = format_date(yesterday)\n",
    "\n",
    "# End time (current time, rounded to the nearest 15 minutes)\n",
    "endDateTime = format_date(now)\n",
    "\n",
    "# Print formatted start and end times\n",
    "print(\"Start Time:\", startDateTime)\n",
    "print(\"End Time:\", endDateTime)\n"
   ]
  },
  {
   "cell_type": "code",
   "execution_count": 69,
   "metadata": {},
   "outputs": [],
   "source": [
    "import requests , json\n",
    "\n",
    "area = ['CO2Stats', 'generationactual', 'co2emission', 'co2intensity', 'interconnection', 'SnspAll', 'frequency', 'demandactual', 'windactual']\n",
    "region = ['ROI', 'NI', 'ALL']\n",
    "Rows = []\n",
    "\n",
    "url = f'http://smartgriddashboard.eirgrid.com/DashboardService.svc/data?area={area[3]}&region={region[2]}&datefrom={startDateTime}&dateto={endDateTime}'\n",
    "response = requests.get(url)\n",
    "Rs = json.loads(response.text)[\"Rows\"]\n",
    "for row in Rs:\n",
    "    Rows.append(row)\n",
    "\n",
    "df_carbon_intensity_day_before= DataFrame(Rows)"
   ]
  },
  {
   "cell_type": "code",
   "execution_count": 70,
   "metadata": {},
   "outputs": [],
   "source": [
    "# Convert 'EffectiveTime' to datetime and set as index\n",
    "df_carbon_intensity_day_before['EffectiveTime'] = pd.to_datetime(df_carbon_intensity_day_before['EffectiveTime'], format='%d-%b-%Y %H:%M:%S')\n",
    "df_carbon_intensity_indexed = df_carbon_intensity_day_before.set_index('EffectiveTime')"
   ]
  },
  {
   "cell_type": "code",
   "execution_count": 71,
   "metadata": {},
   "outputs": [
    {
     "name": "stderr",
     "output_type": "stream",
     "text": [
      "/var/folders/n8/5rf_2zc91lx1ffhm5t27hrsw0000gn/T/ipykernel_3519/2998555976.py:6: FutureWarning: DataFrame.interpolate with object dtype is deprecated and will raise in a future version. Call obj.infer_objects(copy=False) before interpolating instead.\n",
      "  df_carbon_int_interp = df_carbon_intensity_indexed.interpolate()\n"
     ]
    }
   ],
   "source": [
    "import pandas as pd\n",
    "import numpy as np\n",
    "\n",
    "\n",
    "# Interpolate NaN values, except for the last NaN\n",
    "df_carbon_int_interp = df_carbon_intensity_indexed.interpolate()\n",
    "\n",
    "# Reverse the DataFrame\n",
    "df_reversed = df_carbon_int_interp.iloc[::-1]\n",
    "\n",
    "# Find the first valid index in the reversed DataFrame, which corresponds to the last NaN before non-NaN values\n",
    "last_nan_index_before_non_nan = df_reversed['Value'].first_valid_index()\n",
    "\n",
    "\n",
    "# Select rows up to the row before the last NaN\n",
    "df_carbon_intensity_recent = df_carbon_int_interp.loc[:last_nan_index_before_non_nan]"
   ]
  },
  {
   "cell_type": "code",
   "execution_count": 72,
   "metadata": {},
   "outputs": [
    {
     "data": {
      "text/plain": [
       "Timestamp('2024-01-26 22:30:00')"
      ]
     },
     "execution_count": 72,
     "metadata": {},
     "output_type": "execute_result"
    }
   ],
   "source": [
    "last_nan_index_before_non_nan"
   ]
  },
  {
   "cell_type": "code",
   "execution_count": 79,
   "metadata": {},
   "outputs": [
    {
     "name": "stdout",
     "output_type": "stream",
     "text": [
      "{\"mean\": 143.75257731958763, \"min\": 126, \"max\": 161}\n"
     ]
    }
   ],
   "source": [
    "import json\n",
    "\n",
    "# Calculate mean, min, and max\n",
    "mean_val = df_carbon_intensity_recent['Value'].mean()\n",
    "min_val = df_carbon_intensity_recent['Value'].min()\n",
    "max_val = df_carbon_intensity_recent['Value'].max()\n",
    "\n",
    "# Create a dictionary with these values\n",
    "co2_stats_prior_day = {\n",
    "    \"mean\": mean_val,\n",
    "    \"min\": min_val,\n",
    "    \"max\": max_val\n",
    "}\n",
    "\n",
    "# Convert the dictionary to a JSON string\n",
    "co2_stats_json_prior_day = json.dumps(co2_stats_prior_day)\n",
    "\n",
    "print(co2_stats_json_prior_day)\n"
   ]
  },
  {
   "cell_type": "code",
   "execution_count": 83,
   "metadata": {},
   "outputs": [
    {
     "data": {
      "text/plain": [
       "161"
      ]
     },
     "execution_count": 83,
     "metadata": {},
     "output_type": "execute_result"
    }
   ],
   "source": [
    "co2_stats_prior_day['max']"
   ]
  },
  {
   "cell_type": "code",
   "execution_count": 87,
   "metadata": {},
   "outputs": [
    {
     "data": {
      "text/html": [
       "<div>\n",
       "<style scoped>\n",
       "    .dataframe tbody tr th:only-of-type {\n",
       "        vertical-align: middle;\n",
       "    }\n",
       "\n",
       "    .dataframe tbody tr th {\n",
       "        vertical-align: top;\n",
       "    }\n",
       "\n",
       "    .dataframe thead th {\n",
       "        text-align: right;\n",
       "    }\n",
       "</style>\n",
       "<table border=\"1\" class=\"dataframe\">\n",
       "  <thead>\n",
       "    <tr style=\"text-align: right;\">\n",
       "      <th></th>\n",
       "      <th>FieldName</th>\n",
       "      <th>Region</th>\n",
       "      <th>Value</th>\n",
       "    </tr>\n",
       "    <tr>\n",
       "      <th>EffectiveTime</th>\n",
       "      <th></th>\n",
       "      <th></th>\n",
       "      <th></th>\n",
       "    </tr>\n",
       "  </thead>\n",
       "  <tbody>\n",
       "    <tr>\n",
       "      <th>2024-01-26 23:00:00</th>\n",
       "      <td>CO2_INTENSITY_FORECAST</td>\n",
       "      <td>ALL</td>\n",
       "      <td>147.9230</td>\n",
       "    </tr>\n",
       "    <tr>\n",
       "      <th>2024-01-26 23:30:00</th>\n",
       "      <td>CO2_INTENSITY_FORECAST</td>\n",
       "      <td>ALL</td>\n",
       "      <td>148.8191</td>\n",
       "    </tr>\n",
       "  </tbody>\n",
       "</table>\n",
       "</div>"
      ],
      "text/plain": [
       "                                  FieldName Region     Value\n",
       "EffectiveTime                                               \n",
       "2024-01-26 23:00:00  CO2_INTENSITY_FORECAST    ALL  147.9230\n",
       "2024-01-26 23:30:00  CO2_INTENSITY_FORECAST    ALL  148.8191"
      ]
     },
     "execution_count": 87,
     "metadata": {},
     "output_type": "execute_result"
    }
   ],
   "source": [
    "df_carbon_forecast_indexed"
   ]
  },
  {
   "cell_type": "code",
   "execution_count": 88,
   "metadata": {},
   "outputs": [],
   "source": [
    "df_carbon_forecast_value = df_carbon_forecast_indexed['Value']\n",
    "\n",
    "carbon_forecast_hourly = df_carbon_forecast_value.resample('1H').mean()"
   ]
  },
  {
   "cell_type": "code",
   "execution_count": 93,
   "metadata": {},
   "outputs": [
    {
     "data": {
      "text/html": [
       "<div>\n",
       "<style scoped>\n",
       "    .dataframe tbody tr th:only-of-type {\n",
       "        vertical-align: middle;\n",
       "    }\n",
       "\n",
       "    .dataframe tbody tr th {\n",
       "        vertical-align: top;\n",
       "    }\n",
       "\n",
       "    .dataframe thead th {\n",
       "        text-align: right;\n",
       "    }\n",
       "</style>\n",
       "<table border=\"1\" class=\"dataframe\">\n",
       "  <thead>\n",
       "    <tr style=\"text-align: right;\">\n",
       "      <th></th>\n",
       "      <th>Value</th>\n",
       "    </tr>\n",
       "    <tr>\n",
       "      <th>EffectiveTime</th>\n",
       "      <th></th>\n",
       "    </tr>\n",
       "  </thead>\n",
       "  <tbody>\n",
       "    <tr>\n",
       "      <th>2024-01-26 23:00:00</th>\n",
       "      <td>148.37105</td>\n",
       "    </tr>\n",
       "  </tbody>\n",
       "</table>\n",
       "</div>"
      ],
      "text/plain": [
       "                         Value\n",
       "EffectiveTime                 \n",
       "2024-01-26 23:00:00  148.37105"
      ]
     },
     "execution_count": 93,
     "metadata": {},
     "output_type": "execute_result"
    }
   ],
   "source": [
    "pd.DataFrame(carbon_forecast_hourly)"
   ]
  },
  {
   "cell_type": "code",
   "execution_count": 94,
   "metadata": {},
   "outputs": [],
   "source": [
    "def classify_status(value, min_val, max_val):\n",
    "    if value < min_val:\n",
    "        return 'low'\n",
    "    elif value > max_val:\n",
    "        return 'high'\n",
    "    else:\n",
    "        return 'medium'\n",
    "    \n",
    "    "
   ]
  },
  {
   "cell_type": "code",
   "execution_count": 99,
   "metadata": {},
   "outputs": [],
   "source": [
    "df_carbon_forecast_indexed['status_compared_to_yesterday'] = df_carbon_forecast_indexed['Value'].apply(classify_status, args=(co2_stats_prior_day['min'], co2_stats_prior_day['max']))\n",
    "df_carbon_forecast_indexed['status_compared_to_EU'] = df_carbon_forecast_indexed['Value'].apply(classify_status, args=(250, 500))\n"
   ]
  },
  {
   "cell_type": "code",
   "execution_count": 100,
   "metadata": {},
   "outputs": [
    {
     "data": {
      "text/html": [
       "<div>\n",
       "<style scoped>\n",
       "    .dataframe tbody tr th:only-of-type {\n",
       "        vertical-align: middle;\n",
       "    }\n",
       "\n",
       "    .dataframe tbody tr th {\n",
       "        vertical-align: top;\n",
       "    }\n",
       "\n",
       "    .dataframe thead th {\n",
       "        text-align: right;\n",
       "    }\n",
       "</style>\n",
       "<table border=\"1\" class=\"dataframe\">\n",
       "  <thead>\n",
       "    <tr style=\"text-align: right;\">\n",
       "      <th></th>\n",
       "      <th>FieldName</th>\n",
       "      <th>Region</th>\n",
       "      <th>Value</th>\n",
       "      <th>status</th>\n",
       "      <th>status_compared_to_yesterday</th>\n",
       "      <th>status_compared_to_EU</th>\n",
       "    </tr>\n",
       "    <tr>\n",
       "      <th>EffectiveTime</th>\n",
       "      <th></th>\n",
       "      <th></th>\n",
       "      <th></th>\n",
       "      <th></th>\n",
       "      <th></th>\n",
       "      <th></th>\n",
       "    </tr>\n",
       "  </thead>\n",
       "  <tbody>\n",
       "    <tr>\n",
       "      <th>2024-01-26 23:00:00</th>\n",
       "      <td>CO2_INTENSITY_FORECAST</td>\n",
       "      <td>ALL</td>\n",
       "      <td>147.9230</td>\n",
       "      <td>medium</td>\n",
       "      <td>medium</td>\n",
       "      <td>low</td>\n",
       "    </tr>\n",
       "    <tr>\n",
       "      <th>2024-01-26 23:30:00</th>\n",
       "      <td>CO2_INTENSITY_FORECAST</td>\n",
       "      <td>ALL</td>\n",
       "      <td>148.8191</td>\n",
       "      <td>medium</td>\n",
       "      <td>medium</td>\n",
       "      <td>low</td>\n",
       "    </tr>\n",
       "  </tbody>\n",
       "</table>\n",
       "</div>"
      ],
      "text/plain": [
       "                                  FieldName Region     Value  status  \\\n",
       "EffectiveTime                                                          \n",
       "2024-01-26 23:00:00  CO2_INTENSITY_FORECAST    ALL  147.9230  medium   \n",
       "2024-01-26 23:30:00  CO2_INTENSITY_FORECAST    ALL  148.8191  medium   \n",
       "\n",
       "                    status_compared_to_yesterday status_compared_to_EU  \n",
       "EffectiveTime                                                           \n",
       "2024-01-26 23:00:00                       medium                   low  \n",
       "2024-01-26 23:30:00                       medium                   low  "
      ]
     },
     "execution_count": 100,
     "metadata": {},
     "output_type": "execute_result"
    }
   ],
   "source": [
    "df_carbon_forecast_indexed"
   ]
  },
  {
   "cell_type": "code",
   "execution_count": 101,
   "metadata": {},
   "outputs": [
    {
     "name": "stderr",
     "output_type": "stream",
     "text": [
      "/var/folders/n8/5rf_2zc91lx1ffhm5t27hrsw0000gn/T/ipykernel_3519/3058254539.py:14: FutureWarning: Styler.applymap has been deprecated. Use Styler.map instead.\n",
      "  df_styled = df_carbon_forecast_indexed.style.applymap(color_status, subset=['status_compared_to_yesterday', 'status_compared_to_EU'])\n"
     ]
    },
    {
     "data": {
      "text/html": [
       "<style type=\"text/css\">\n",
       "#T_32c1b_row0_col4, #T_32c1b_row1_col4 {\n",
       "  background-color: orange;\n",
       "}\n",
       "#T_32c1b_row0_col5, #T_32c1b_row1_col5 {\n",
       "  background-color: green;\n",
       "}\n",
       "</style>\n",
       "<table id=\"T_32c1b\">\n",
       "  <thead>\n",
       "    <tr>\n",
       "      <th class=\"blank level0\" >&nbsp;</th>\n",
       "      <th id=\"T_32c1b_level0_col0\" class=\"col_heading level0 col0\" >FieldName</th>\n",
       "      <th id=\"T_32c1b_level0_col1\" class=\"col_heading level0 col1\" >Region</th>\n",
       "      <th id=\"T_32c1b_level0_col2\" class=\"col_heading level0 col2\" >Value</th>\n",
       "      <th id=\"T_32c1b_level0_col3\" class=\"col_heading level0 col3\" >status</th>\n",
       "      <th id=\"T_32c1b_level0_col4\" class=\"col_heading level0 col4\" >status_compared_to_yesterday</th>\n",
       "      <th id=\"T_32c1b_level0_col5\" class=\"col_heading level0 col5\" >status_compared_to_EU</th>\n",
       "    </tr>\n",
       "    <tr>\n",
       "      <th class=\"index_name level0\" >EffectiveTime</th>\n",
       "      <th class=\"blank col0\" >&nbsp;</th>\n",
       "      <th class=\"blank col1\" >&nbsp;</th>\n",
       "      <th class=\"blank col2\" >&nbsp;</th>\n",
       "      <th class=\"blank col3\" >&nbsp;</th>\n",
       "      <th class=\"blank col4\" >&nbsp;</th>\n",
       "      <th class=\"blank col5\" >&nbsp;</th>\n",
       "    </tr>\n",
       "  </thead>\n",
       "  <tbody>\n",
       "    <tr>\n",
       "      <th id=\"T_32c1b_level0_row0\" class=\"row_heading level0 row0\" >2024-01-26 23:00:00</th>\n",
       "      <td id=\"T_32c1b_row0_col0\" class=\"data row0 col0\" >CO2_INTENSITY_FORECAST</td>\n",
       "      <td id=\"T_32c1b_row0_col1\" class=\"data row0 col1\" >ALL</td>\n",
       "      <td id=\"T_32c1b_row0_col2\" class=\"data row0 col2\" >147.923000</td>\n",
       "      <td id=\"T_32c1b_row0_col3\" class=\"data row0 col3\" >medium</td>\n",
       "      <td id=\"T_32c1b_row0_col4\" class=\"data row0 col4\" >medium</td>\n",
       "      <td id=\"T_32c1b_row0_col5\" class=\"data row0 col5\" >low</td>\n",
       "    </tr>\n",
       "    <tr>\n",
       "      <th id=\"T_32c1b_level0_row1\" class=\"row_heading level0 row1\" >2024-01-26 23:30:00</th>\n",
       "      <td id=\"T_32c1b_row1_col0\" class=\"data row1 col0\" >CO2_INTENSITY_FORECAST</td>\n",
       "      <td id=\"T_32c1b_row1_col1\" class=\"data row1 col1\" >ALL</td>\n",
       "      <td id=\"T_32c1b_row1_col2\" class=\"data row1 col2\" >148.819100</td>\n",
       "      <td id=\"T_32c1b_row1_col3\" class=\"data row1 col3\" >medium</td>\n",
       "      <td id=\"T_32c1b_row1_col4\" class=\"data row1 col4\" >medium</td>\n",
       "      <td id=\"T_32c1b_row1_col5\" class=\"data row1 col5\" >low</td>\n",
       "    </tr>\n",
       "  </tbody>\n",
       "</table>\n"
      ],
      "text/plain": [
       "<pandas.io.formats.style.Styler at 0x1576628c0>"
      ]
     },
     "execution_count": 101,
     "metadata": {},
     "output_type": "execute_result"
    }
   ],
   "source": [
    "import pandas as pd\n",
    "\n",
    "# Assuming df is your DataFrame\n",
    "\n",
    "def color_status(val):\n",
    "    if val == 'low':\n",
    "        color = 'green'\n",
    "    elif val == 'medium':\n",
    "        color = 'orange'\n",
    "    else:  # high\n",
    "        color = 'red'\n",
    "    return f'background-color: {color}'\n",
    "\n",
    "df_styled = df_carbon_forecast_indexed.style.applymap(color_status, subset=['status_compared_to_yesterday', 'status_compared_to_EU'])\n",
    "df_styled\n"
   ]
  },
  {
   "cell_type": "code",
   "execution_count": 123,
   "metadata": {},
   "outputs": [
    {
     "data": {
      "image/png": "[encoded data removed]",
      "text/plain": [
       "<Figure size 1000x600 with 1 Axes>"
      ]
     },
     "metadata": {},
     "output_type": "display_data"
    }
   ],
   "source": [
    "import matplotlib.pyplot as plt\n",
    "import matplotlib.colors as mcolors\n",
    "import pandas as pd\n",
    "\n",
    "data = {\n",
    "    'EffectiveTime': [\n",
    "        '2024-01-26 18:00:00', '2024-01-26 18:30:00',\n",
    "        '2024-01-26 19:00:00', '2024-01-26 19:30:00',\n",
    "        '2024-01-26 20:00:00', '2024-01-26 20:30:00',\n",
    "        '2024-01-26 21:00:00', '2024-01-26 21:30:00',\n",
    "        '2024-01-26 22:00:00', '2024-01-26 22:30:00',\n",
    "        '2024-01-26 23:00:00', '2024-01-26 23:30:00'\n",
    "    ],\n",
    "    'status_compared_to_yesterday': [\n",
    "        'low', 'medium',\n",
    "        'medium', 'high',\n",
    "        'low', 'medium',\n",
    "        'high', 'medium',\n",
    "        'medium', 'low',\n",
    "        'medium', 'low'\n",
    "    ],\n",
    "    'status_compared_to_EU': [\n",
    "        'medium', 'high',\n",
    "        'low', 'medium',\n",
    "        'high', 'low',\n",
    "        'medium', 'high',\n",
    "        'low', 'medium',\n",
    "        'low', 'medium'\n",
    "    ]\n",
    "}\n",
    "df = pd.DataFrame(data)\n",
    "\n",
    "# Map status to colors\n",
    "color_map = {'low': 'green', 'medium': 'orange', 'high': 'red'}\n",
    "\n",
    "# Create figure and axes\n",
    "fig, ax = plt.subplots(figsize=(10, 6))\n",
    "\n",
    "# Plot bars\n",
    "for i, row in df.iterrows():\n",
    "    ax.barh(row['EffectiveTime'], 1, color=color_map[row['status_compared_to_yesterday']], edgecolor='none')\n",
    "    ax.barh(row['EffectiveTime'], 1, left=1, color=color_map[row['status_compared_to_EU']], edgecolor='none')\n",
    "\n",
    "# Customize plot appearance\n",
    "ax.set_facecolor('black')\n",
    "fig.patch.set_facecolor('black')\n",
    "ax.tick_params(axis='x', colors='white')  # X-axis ticks color\n",
    "ax.spines['top'].set_visible(False)\n",
    "ax.spines['right'].set_visible(False)\n",
    "ax.spines['left'].set_color('white')\n",
    "ax.spines['bottom'].set_color('white')\n",
    "\n",
    "# Remove x-axis ticks\n",
    "ax.xaxis.set_ticks([])\n",
    "\n",
    "# Set y-axis labels\n",
    "ax.set_yticks(df['EffectiveTime'])\n",
    "ax.set_yticklabels(df['EffectiveTime'], color='white')\n",
    "\n",
    "# Set title\n",
    "ax.set_title('CO2 Intensity Forecast for the Remaining Hours of Today', color='white')\n",
    "ax.set_xticks([0.5, 1.5])\n",
    "ax.set_xticklabels(['Compared to Yesterday', 'Compared to EU Standards'], color='white')\n",
    "\n",
    "# Show plot\n",
    "plt.show()\n"
   ]
  },
  {
   "cell_type": "code",
   "execution_count": null,
   "metadata": {},
   "outputs": [],
   "source": []
  }
 ],
 "metadata": {
  "kernelspec": {
   "display_name": "base",
   "language": "python",
   "name": "python3"
  },
  "language_info": {
   "codemirror_mode": {
    "name": "ipython",
    "version": 3
   },
   "file_extension": ".py",
   "mimetype": "text/x-python",
   "name": "python",
   "nbconvert_exporter": "python",
   "pygments_lexer": "ipython3",
   "version": "3.10.9"
  }
 },
 "nbformat": 4,
 "nbformat_minor": 2
}
